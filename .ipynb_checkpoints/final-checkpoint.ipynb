{
 "cells": [
  {
   "cell_type": "code",
   "execution_count": 1,
   "id": "bb269dab",
   "metadata": {},
   "outputs": [],
   "source": [
    "from selenium import webdriver\n",
    "from selenium.webdriver.common.keys import Keys\n",
    "from selenium.webdriver.common.by import By\n",
    "from bs4 import BeautifulSoup\n",
    "import requests"
   ]
  },
  {
   "cell_type": "code",
   "execution_count": 2,
   "id": "931cfe08",
   "metadata": {},
   "outputs": [],
   "source": [
    "driver = webdriver.Chrome()\n",
    "driver.get(\"http://onlinetest1-3.slhs.tp.edu.tw/test2/main/simulate_exec.asp?gexamid=t14900&pcount=80&pastid=all\")"
   ]
  },
  {
   "cell_type": "code",
   "execution_count": 3,
   "id": "0777376c",
   "metadata": {},
   "outputs": [],
   "source": [
    "driver.find_elements_by_name(\"examinterface\")[1].click()"
   ]
  },
  {
   "cell_type": "code",
   "execution_count": 4,
   "id": "7d0b81ad",
   "metadata": {},
   "outputs": [],
   "source": [
    "driver.find_element_by_id(\"n1\").click()"
   ]
  },
  {
   "cell_type": "code",
   "execution_count": 5,
   "id": "e5818e15",
   "metadata": {},
   "outputs": [],
   "source": [
    "driver.find_element_by_partial_link_text('開始測驗').click()"
   ]
  },
  {
   "cell_type": "code",
   "execution_count": 6,
   "id": "09daa00a",
   "metadata": {},
   "outputs": [],
   "source": [
    "# driver.refresh()"
   ]
  },
  {
   "cell_type": "code",
   "execution_count": 7,
   "id": "3cfbf748",
   "metadata": {},
   "outputs": [],
   "source": [
    "driver.switch_to.frame(\"main\")"
   ]
  },
  {
   "cell_type": "code",
   "execution_count": 69,
   "id": "180456f5",
   "metadata": {},
   "outputs": [],
   "source": [
    "def searchAnser(topic,number):\n",
    "    urlNumber = 0\n",
    "    AnswerText = ''\n",
    "    \n",
    "    if topic   == '01'    :urlNumber = int(number) + 782797\n",
    "    elif topic == '02'    :urlNumber = int(number) + 782942\n",
    "    elif topic == '03'    :urlNumber = int(number) + 783183\n",
    "    elif topic == '04'    :urlNumber = int(number) + 783493\n",
    "    elif topic == '05'    :urlNumber = int(number) + 783390\n",
    "    elif topic == '90006' :urlNumber = int(number) + 1755528\n",
    "    elif topic == '90007' :urlNumber = int(number) + 2053551\n",
    "    elif topic == '90008' :urlNumber = int(number) + 1755728\n",
    "    elif topic == '90009' :urlNumber = int(number) + 2025890\n",
    "        \n",
    "    url = \"https://yamol.tw/item-\" + str(urlNumber) + \".htm\"\n",
    "    response = requests.get(url)\n",
    "    soup     = BeautifulSoup(response.text, 'html.parser')\n",
    "    \n",
    "    selects = soup.select(\"div.col-sm-6.col-md-4.col-lg-4\")\n",
    "    Answer = selects[0].a.text\n",
    "    \n",
    "    titles = soup.select(\"span.itemcontent\")[0].text.split('(')\n",
    "    \n",
    "    for title in titles:\n",
    "        if title.split(')')[0] == Answer:\n",
    "            AnswerText = title.split(')')[1].split(' ')[0].split('。')[0].replace(\"\\n\", \"\")\n",
    "    \n",
    "    print(AnswerText)\n",
    "    \n",
    "    return AnswerText"
   ]
  },
  {
   "cell_type": "code",
   "execution_count": 60,
   "id": "cc09d1fb",
   "metadata": {},
   "outputs": [],
   "source": [
    "questions = driver.find_elements(By.XPATH, '/html/body/center/form/div/table/tbody/tr')"
   ]
  },
  {
   "cell_type": "code",
   "execution_count": 208,
   "id": "ca199ff1",
   "metadata": {},
   "outputs": [
    {
     "name": "stdout",
     "output_type": "stream",
     "text": [
      "1\n",
      "科目之選用\n",
      "2\n",
      "多計$8,500\n",
      "3\n",
      "開辦費\n",
      "4\n",
      "開辦費$11,000\n",
      "5\n",
      "借：薪資支出$26,000，貸：現金$24,440、代收款$1,560\n",
      "6\n",
      "商業折扣\n",
      "7\n",
      "試算表不一定平衡\n",
      "8\n",
      "暫收款$30,000\n",
      "9\n",
      "折舊的調整\n",
      "10\n",
      "具理論，但不具一致性\n",
      "11\n",
      "未編製工作底稿期末無法結帳\n",
      "12\n",
      "$2,100\n",
      "13\n",
      "記帳憑證\n",
      "14\n",
      "營利會計\n",
      "15\n",
      "調整分錄\n",
      "16\n",
      "標準式\n",
      "17\n",
      "數位產品\n",
      "18\n",
      "沒有餘額\n",
      "19\n",
      "三十公分\n",
      "20\n",
      "五年\n",
      "21\n",
      "4\n",
      "22\n",
      "C→B→A\n",
      "23\n",
      "沒有餘額\n",
      "24\n",
      "借：銀行存款$260,000，貸：應收票據$260,000\n",
      "25\n",
      "處新台幣6萬元以上30萬元以下罰鍰\n",
      "26\n",
      "資產負債表與試算表皆為商業會計法規定每屆決算必須編製的報表\n",
      "27\n",
      "重新申請密碼\n",
      "28\n",
      "借餘$1,800\n",
      "29\n",
      "調整\n",
      "30\n",
      "土地\n",
      "31\n",
      "預算編列\n",
      "32\n",
      "會計科目\n",
      "33\n",
      "電子資金移轉\n",
      "34\n",
      "多計$180,000\n",
      "35\n",
      "權責發生基礎\n",
      "36\n",
      "結算工作底稿\n",
      "37\n",
      "呆帳\n",
      "38\n",
      "我國商業會計法規定會計基礎平時採用現金基礎入帳者，年終決算時應依權責基礎調整之\n",
      "39\n",
      "整批連線\n",
      "40\n",
      "現金折扣\n",
      "41\n",
      "便於計算損益\n",
      "42\n",
      "權益減少，負債增加\n",
      "43\n",
      "轉帳分錄\n",
      "44\n",
      "借：備抵呆帳－應收帳款\n",
      "45\n",
      "$450,000\n",
      "46\n",
      "台灣大學\n",
      "47\n",
      "$16,000\n",
      "48\n",
      "設定值\n",
      "49\n",
      "重大性\n",
      "50\n",
      "商業所有會計處理均應根據原始憑證，編製記帳憑證，再據以登入帳簿\n",
      "51\n",
      "淨利$5,000\n",
      "52\n",
      "虛、實帳戶餘額均列\n",
      "53\n",
      "$112,500\n",
      "54\n",
      "＃\n",
      "55\n",
      "各帳戶之頁次\n",
      "56\n",
      "當靜電發生處所低於室溫時，效果更佳\n",
      "57\n",
      "保險費$8,000\n",
      "58\n",
      "分類帳為原始帳簿\n",
      "59\n",
      "使各期損益公允表達\n",
      "60\n",
      "依交易性質自動判別會計科目功能\n",
      "61\n",
      "二張\n",
      "62\n",
      "$20,000\n",
      "63\n",
      "沿面放電\n",
      "64\n",
      "不須過次頁\n",
      "65\n",
      "消除發生源\n",
      "66\n",
      "實施自動檢查\n",
      "67\n",
      "漂白水\n",
      "68\n",
      "職業疾病\n",
      "69\n",
      "相信公司，幫助公司對抗這些不實的指控\n",
      "70\n",
      "罰金\n",
      "71\n",
      "公職人員利益衝突迴避法\n",
      "72\n",
      "儘可能準時，依約定時間完成工作\n",
      "73\n",
      "委託合法清除機構清運\n",
      "74\n",
      "人工溼地\n",
      "75\n",
      "透過飲食\n",
      "76\n",
      "ABCD\n",
      "77\n",
      "購買洗衣機時選購有省水標章的洗衣機，可有效節約用水\n",
      "78\n",
      "直接換裝沒有省水標章的水龍頭\n",
      "79\n",
      "白天有陽光照明，所以白天可以將照明設備全關掉\n",
      "80\n",
      "煮沸\n"
     ]
    }
   ],
   "source": [
    "for i in range(2, len(questions)):\n",
    "    print(i-1)\n",
    "    \n",
    "    pathText = '/html/body/center/form/div/table/tbody/tr[' + str(i+1) + ']/td[3]/font'\n",
    "    topic = driver.find_element(By.XPATH, pathText).text.split('【')[1].split('-')[0]\n",
    "    number = driver.find_element(By.XPATH, pathText).text.split('【')[1].split('-')[1].split('】')[0]\n",
    "#     print(number)\n",
    "\n",
    "    Answer = searchAnser(topic,number)\n",
    "    clickNumber = 87\n",
    "    \n",
    "    pathText2 = '/html/body/center/form/div/table/tbody/tr[' + str(i+1) + ']/td[3]/p'\n",
    "    if   Answer == driver.find_element(By.XPATH, pathText2).text.split(')')[1].split(' ')[1]:\n",
    "        clickNumber = 0\n",
    "    elif Answer == driver.find_element(By.XPATH, pathText2).text.split(')')[2].split(' ')[1]:\n",
    "        clickNumber = 1\n",
    "    elif Answer == driver.find_element(By.XPATH, pathText2).text.split(')')[3].split(' ')[1]:\n",
    "        clickNumber = 2\n",
    "    elif Answer == driver.find_element(By.XPATH, pathText2).text.split(')')[4].split(' ')[1]:\n",
    "        clickNumber = 3\n",
    "    \n",
    "    pathText3 = '/html/body/center/form/div/table/tbody/tr[' + str(i+1) + ']/td[3]/p/input'\n",
    "    if   clickNumber != 87:\n",
    "        driver.find_elements(By.XPATH, pathText3)[clickNumber].click()"
   ]
  },
  {
   "cell_type": "code",
   "execution_count": null,
   "id": "a3dc5044",
   "metadata": {},
   "outputs": [],
   "source": []
  },
  {
   "cell_type": "code",
   "execution_count": 119,
   "id": "6c94786a",
   "metadata": {},
   "outputs": [],
   "source": [
    "topic = driver.find_element(By.XPATH, '/html/body/center/form/div/table/tbody/tr[7]/td[3]/font').text.split('【')[1].split('-')[0]\n",
    "number = driver.find_element(By.XPATH, '/html/body/center/form/div/table/tbody/tr[7]/td[3]/font').text.split('【')[1].split('-')[1].split('】')[0]"
   ]
  },
  {
   "cell_type": "code",
   "execution_count": 120,
   "id": "bb05a44b",
   "metadata": {},
   "outputs": [
    {
     "name": "stdout",
     "output_type": "stream",
     "text": [
      "02 10\n"
     ]
    }
   ],
   "source": [
    "print(topic,number )"
   ]
  },
  {
   "cell_type": "code",
   "execution_count": 121,
   "id": "d589799a",
   "metadata": {},
   "outputs": [
    {
     "name": "stdout",
     "output_type": "stream",
     "text": [
      "借：薪資支出$26,000，貸：現金$24,440、代收款$1,560\n"
     ]
    }
   ],
   "source": [
    "Answer = searchAnser(topic,number)"
   ]
  },
  {
   "cell_type": "code",
   "execution_count": 122,
   "id": "bd28301b",
   "metadata": {},
   "outputs": [
    {
     "data": {
      "text/plain": [
       "'借：應付帳款$26,000，貸：現金$26,000'"
      ]
     },
     "execution_count": 122,
     "metadata": {},
     "output_type": "execute_result"
    }
   ],
   "source": [
    "driver.find_element(By.XPATH, '/html/body/center/form/div/table/tbody/tr[7]/td[3]/p').text.split(' ')[1]"
   ]
  },
  {
   "cell_type": "code",
   "execution_count": 123,
   "id": "741d7374",
   "metadata": {},
   "outputs": [
    {
     "data": {
      "text/plain": [
       "''"
      ]
     },
     "execution_count": 123,
     "metadata": {},
     "output_type": "execute_result"
    }
   ],
   "source": [
    "driver.find_element(By.XPATH, '/html/body/center/form/div/table/tbody/tr[7]/td[3]/p').text.split(' ')[5]"
   ]
  },
  {
   "cell_type": "code",
   "execution_count": 124,
   "id": "054914a9",
   "metadata": {},
   "outputs": [
    {
     "data": {
      "text/plain": [
       "'\\n(4)'"
      ]
     },
     "execution_count": 124,
     "metadata": {},
     "output_type": "execute_result"
    }
   ],
   "source": [
    "driver.find_element(By.XPATH, '/html/body/center/form/div/table/tbody/tr[7]/td[3]/p').text.split(' ')[9]"
   ]
  },
  {
   "cell_type": "code",
   "execution_count": 125,
   "id": "d07cba94",
   "metadata": {},
   "outputs": [
    {
     "ename": "IndexError",
     "evalue": "list index out of range",
     "output_type": "error",
     "traceback": [
      "\u001b[1;31m---------------------------------------------------------------------------\u001b[0m",
      "\u001b[1;31mIndexError\u001b[0m                                Traceback (most recent call last)",
      "\u001b[1;32m<ipython-input-125-273815006bb6>\u001b[0m in \u001b[0;36m<module>\u001b[1;34m\u001b[0m\n\u001b[1;32m----> 1\u001b[1;33m \u001b[0mdriver\u001b[0m\u001b[1;33m.\u001b[0m\u001b[0mfind_element\u001b[0m\u001b[1;33m(\u001b[0m\u001b[0mBy\u001b[0m\u001b[1;33m.\u001b[0m\u001b[0mXPATH\u001b[0m\u001b[1;33m,\u001b[0m \u001b[1;34m'/html/body/center/form/div/table/tbody/tr[7]/td[3]/p'\u001b[0m\u001b[1;33m)\u001b[0m\u001b[1;33m.\u001b[0m\u001b[0mtext\u001b[0m\u001b[1;33m.\u001b[0m\u001b[0msplit\u001b[0m\u001b[1;33m(\u001b[0m\u001b[1;34m' '\u001b[0m\u001b[1;33m)\u001b[0m\u001b[1;33m[\u001b[0m\u001b[1;36m13\u001b[0m\u001b[1;33m]\u001b[0m\u001b[1;33m\u001b[0m\u001b[1;33m\u001b[0m\u001b[0m\n\u001b[0m",
      "\u001b[1;31mIndexError\u001b[0m: list index out of range"
     ]
    }
   ],
   "source": [
    "driver.find_element(By.XPATH, '/html/body/center/form/div/table/tbody/tr[7]/td[3]/p').text.split(' ')[13]"
   ]
  },
  {
   "cell_type": "code",
   "execution_count": null,
   "id": "ffee8f56",
   "metadata": {},
   "outputs": [],
   "source": []
  },
  {
   "cell_type": "code",
   "execution_count": 204,
   "id": "d87ea90b",
   "metadata": {},
   "outputs": [
    {
     "data": {
      "text/plain": [
       "'外觀'"
      ]
     },
     "execution_count": 204,
     "metadata": {},
     "output_type": "execute_result"
    }
   ],
   "source": [
    "driver.find_element(By.XPATH, '/html/body/center/form/div/table/tbody/tr[50]/td[3]/p').text.split(')')[1].split(' ')[1]"
   ]
  },
  {
   "cell_type": "code",
   "execution_count": 205,
   "id": "0abba5f6",
   "metadata": {},
   "outputs": [
    {
     "data": {
      "text/plain": [
       "'螢幕保護裝置'"
      ]
     },
     "execution_count": 205,
     "metadata": {},
     "output_type": "execute_result"
    }
   ],
   "source": [
    "driver.find_element(By.XPATH, '/html/body/center/form/div/table/tbody/tr[50]/td[3]/p').text.split(')')[2].split(' ')[1]"
   ]
  },
  {
   "cell_type": "code",
   "execution_count": 206,
   "id": "a167feea",
   "metadata": {},
   "outputs": [
    {
     "data": {
      "text/plain": [
       "'設定值'"
      ]
     },
     "execution_count": 206,
     "metadata": {},
     "output_type": "execute_result"
    }
   ],
   "source": [
    "driver.find_element(By.XPATH, '/html/body/center/form/div/table/tbody/tr[50]/td[3]/p').text.split(')')[3].split(' ')[1]"
   ]
  },
  {
   "cell_type": "code",
   "execution_count": 207,
   "id": "e526c3b9",
   "metadata": {},
   "outputs": [
    {
     "data": {
      "text/plain": [
       "'背景'"
      ]
     },
     "execution_count": 207,
     "metadata": {},
     "output_type": "execute_result"
    }
   ],
   "source": [
    "driver.find_element(By.XPATH, '/html/body/center/form/div/table/tbody/tr[50]/td[3]/p').text.split(')')[4].split(' ')[1]"
   ]
  },
  {
   "cell_type": "code",
   "execution_count": null,
   "id": "178daa61",
   "metadata": {},
   "outputs": [],
   "source": []
  },
  {
   "cell_type": "code",
   "execution_count": null,
   "id": "90ccd17a",
   "metadata": {},
   "outputs": [],
   "source": []
  },
  {
   "cell_type": "code",
   "execution_count": 175,
   "id": "f070c9cb",
   "metadata": {},
   "outputs": [
    {
     "data": {
      "text/plain": [
       "['(1', ' 外觀   (2', ' 螢幕保護裝置   (3', ' 設定值   (4', ' 背景  ']"
      ]
     },
     "execution_count": 175,
     "metadata": {},
     "output_type": "execute_result"
    }
   ],
   "source": [
    "driver.find_element(By.XPATH, '/html/body/center/form/div/table/tbody/tr[50]/td[3]/p').text.split(')')"
   ]
  },
  {
   "cell_type": "code",
   "execution_count": 176,
   "id": "2a9c6a24",
   "metadata": {},
   "outputs": [
    {
     "data": {
      "text/plain": [
       "5"
      ]
     },
     "execution_count": 176,
     "metadata": {},
     "output_type": "execute_result"
    }
   ],
   "source": [
    "len(driver.find_element(By.XPATH, '/html/body/center/form/div/table/tbody/tr[3]/td[3]/p').text.split(')'))"
   ]
  },
  {
   "cell_type": "code",
   "execution_count": null,
   "id": "970998f2",
   "metadata": {},
   "outputs": [],
   "source": []
  },
  {
   "cell_type": "code",
   "execution_count": 98,
   "id": "02cafb4f",
   "metadata": {},
   "outputs": [],
   "source": [
    "if   Answer == driver.find_element(By.XPATH, '/html/body/center/form/div/table/tbody/tr[4]/td[3]/p').text.split(' ')[1]:\n",
    "    clickNumber = 0\n",
    "elif Answer == driver.find_element(By.XPATH, '/html/body/center/form/div/table/tbody/tr[4]/td[3]/p').text.split(' ')[5]:\n",
    "    clickNumber = 1\n",
    "elif Answer == driver.find_element(By.XPATH, '/html/body/center/form/div/table/tbody/tr[4]/td[3]/p').text.split(' ')[9]:\n",
    "    clickNumber = 2\n",
    "elif Answer == driver.find_element(By.XPATH, '/html/body/center/form/div/table/tbody/tr[4]/td[3]/p').text.split(' ')[13]:\n",
    "    clickNumber = 3"
   ]
  },
  {
   "cell_type": "code",
   "execution_count": 99,
   "id": "b577f1b9",
   "metadata": {},
   "outputs": [
    {
     "data": {
      "text/plain": [
       "2"
      ]
     },
     "execution_count": 99,
     "metadata": {},
     "output_type": "execute_result"
    }
   ],
   "source": [
    "clickNumber"
   ]
  },
  {
   "cell_type": "code",
   "execution_count": null,
   "id": "fdcc5576",
   "metadata": {},
   "outputs": [],
   "source": []
  },
  {
   "cell_type": "code",
   "execution_count": 100,
   "id": "3f858609",
   "metadata": {},
   "outputs": [],
   "source": [
    "driver.find_elements(By.XPATH, '/html/body/center/form/div/table/tbody/tr[4]/td[3]/p/input')[clickNumber].click()"
   ]
  },
  {
   "cell_type": "code",
   "execution_count": null,
   "id": "f2603471",
   "metadata": {},
   "outputs": [],
   "source": []
  }
 ],
 "metadata": {
  "kernelspec": {
   "display_name": "Python 3",
   "language": "python",
   "name": "python3"
  },
  "language_info": {
   "codemirror_mode": {
    "name": "ipython",
    "version": 3
   },
   "file_extension": ".py",
   "mimetype": "text/x-python",
   "name": "python",
   "nbconvert_exporter": "python",
   "pygments_lexer": "ipython3",
   "version": "3.7.9"
  }
 },
 "nbformat": 4,
 "nbformat_minor": 5
}
