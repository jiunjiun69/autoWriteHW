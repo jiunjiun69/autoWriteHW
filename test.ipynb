{
 "cells": [
  {
   "cell_type": "code",
   "execution_count": 1,
   "id": "4a8382f5",
   "metadata": {},
   "outputs": [],
   "source": [
    "from selenium import webdriver\n",
    "from selenium.webdriver.common.keys import Keys\n",
    "from selenium.webdriver.common.by import By\n",
    "import requests\n",
    "from bs4 import BeautifulSoup\n",
    "import pyautogui\n",
    "import void\n",
    "from difflib import SequenceMatcher"
   ]
  },
  {
   "cell_type": "code",
   "execution_count": 2,
   "id": "96a9a337",
   "metadata": {},
   "outputs": [],
   "source": [
    "def similarity(a, b):\n",
    "    return SequenceMatcher(None, a, b).ratio()"
   ]
  },
  {
   "cell_type": "code",
   "execution_count": 3,
   "id": "50e3e705",
   "metadata": {},
   "outputs": [],
   "source": [
    "driver = webdriver.Chrome()"
   ]
  },
  {
   "cell_type": "code",
   "execution_count": 4,
   "id": "ff0bbd04",
   "metadata": {},
   "outputs": [],
   "source": [
    "driver.get(\"http://onlinetest1-3.slhs.tp.edu.tw/test2/main/simulate_exec.asp?gexamid=t14900&pcount=80&pastid=all\")"
   ]
  },
  {
   "cell_type": "code",
   "execution_count": 5,
   "id": "e057a99e",
   "metadata": {},
   "outputs": [],
   "source": [
    "url1 = 'http://google.com'\n",
    "strScript = 'window.open(\"'+url1+'\");'"
   ]
  },
  {
   "cell_type": "code",
   "execution_count": 6,
   "id": "c483cf62",
   "metadata": {},
   "outputs": [],
   "source": [
    "driver.execute_script(strScript)"
   ]
  },
  {
   "cell_type": "code",
   "execution_count": 7,
   "id": "4e73baa3",
   "metadata": {},
   "outputs": [],
   "source": [
    "# pyautogui.hotkey('ctrl', 't', interval=0.1)"
   ]
  },
  {
   "cell_type": "code",
   "execution_count": 8,
   "id": "017baf86",
   "metadata": {},
   "outputs": [],
   "source": [
    "driver.switch_to.window(driver.window_handles[0])"
   ]
  },
  {
   "cell_type": "code",
   "execution_count": 9,
   "id": "a3318284",
   "metadata": {},
   "outputs": [],
   "source": [
    "driver.find_elements_by_name(\"examinterface\")[1].click()"
   ]
  },
  {
   "cell_type": "code",
   "execution_count": 10,
   "id": "e6177812",
   "metadata": {},
   "outputs": [],
   "source": [
    "driver.find_element_by_id(\"n1\").click()"
   ]
  },
  {
   "cell_type": "code",
   "execution_count": 11,
   "id": "6e8fb04b",
   "metadata": {},
   "outputs": [],
   "source": [
    "driver.find_element_by_partial_link_text('開始測驗').click()"
   ]
  },
  {
   "cell_type": "code",
   "execution_count": 12,
   "id": "72381f0f",
   "metadata": {},
   "outputs": [],
   "source": [
    "# pyautogui.hotkey('ctrl', 't', interval=0.1)\n",
    "# driver.switch_to.window(driver.window_handles[1])\n",
    "# driver.get(\"www.google.com\")"
   ]
  },
  {
   "cell_type": "code",
   "execution_count": 13,
   "id": "017126a9",
   "metadata": {},
   "outputs": [],
   "source": [
    "def searchAnswer(QuestionGroup,topic):\n",
    "    if QuestionGroup   == \"01\"    :orrectTopic = int(topic) + 782797\n",
    "    elif QuestionGroup == \"02\"    :orrectTopic = int(topic) + 782942\n",
    "    elif QuestionGroup == \"03\"    :orrectTopic = int(topic) + 783183\n",
    "    elif QuestionGroup == \"04\"    :orrectTopic = int(topic) + 783493\n",
    "    elif QuestionGroup == \"05\"    :orrectTopic = int(topic) + 783390\n",
    "    elif QuestionGroup == \"90006\" :orrectTopic = int(topic) + 1755528\n",
    "    elif QuestionGroup == \"90007\" :orrectTopic = int(topic) + 2053551\n",
    "    elif QuestionGroup == \"90008\" :orrectTopic = int(topic) + 1755728\n",
    "    elif QuestionGroup == \"90009\" :orrectTopic = int(topic) + 2025890\n",
    "        \n",
    "    url = \"https://yamol.tw/item-\" + str(orrectTopic) + \".htm\"\n",
    "    \n",
    "    driver.switch_to.window(driver.window_handles[1])\n",
    "    driver.get(url)\n",
    "    ans = driver.find_element_by_class_name(\"col-sm-6.col-md-4.col-lg-4\")\n",
    "    answer = ans.text.split(\"\\n\")[0].split(\"：\")[1]\n",
    "    selects = driver.find_element_by_class_name(\"itemcontent\")\n",
    "    if answer == \"A\":\n",
    "        number = 5\n",
    "    elif answer == \"B\":\n",
    "        number = 4\n",
    "    elif answer == \"C\":\n",
    "        number = 3\n",
    "    elif answer == \"D\":\n",
    "        number = 2\n",
    "    \n",
    "    lastAnswer = selects.text.split(\"#\")[0].split(\"\\n(\")[1-number].split(\")\")[1].split('。')[0].replace(\"\\n\", \"\")\n",
    "    \n",
    "    driver.switch_to.window(driver.window_handles[0])\n",
    "    \n",
    "    return lastAnswer\n",
    "    "
   ]
  },
  {
   "cell_type": "code",
   "execution_count": 14,
   "id": "deb14d0c",
   "metadata": {},
   "outputs": [],
   "source": [
    "# driver.switch_to.window(driver.window_handles[0])\n",
    "driver.switch_to.frame(\"main\") "
   ]
  },
  {
   "cell_type": "code",
   "execution_count": 15,
   "id": "976a018b",
   "metadata": {},
   "outputs": [],
   "source": [
    "questions = driver.find_elements(By.XPATH, '/html/body/center/form/div/table/tbody/tr')"
   ]
  },
  {
   "cell_type": "code",
   "execution_count": 16,
   "id": "4bc54d20",
   "metadata": {},
   "outputs": [
    {
     "name": "stdout",
     "output_type": "stream",
     "text": [
      "1\n",
      "獨資會計本期損益應在本期內轉入業 主往來\n",
      "2\n",
      "自然對流\n",
      "3\n",
      "借：應付帳款$90,000，貸：進貨$90,000\n",
      "4\n",
      "現金支出傳票\n",
      "5\n",
      "收取現金\n",
      "6\n",
      "進貨折讓\n",
      "7\n",
      "$104,500\n",
      "8\n",
      "$42,800\n",
      "9\n",
      "捐贈$20,000\n",
      "10\n",
      "安裝和維護會計專用的網路\n",
      "11\n",
      "銷貨運費\n",
      "12\n",
      "負債增加\n",
      "13\n",
      "過帳上的錯誤\n",
      "14\n",
      "折舊\n",
      "15\n",
      "類級編號法\n",
      "16\n",
      "借：備抵呆帳－應收帳款\n",
      "17\n",
      "不影響資產總額\n",
      "18\n",
      "營業人自用或贈送的貨物、勞務，可免徵營業稅\n",
      "19\n",
      "郵電費$450、文具用品$400\n",
      "20\n",
      "總經理\n",
      "21\n",
      "$239,000\n",
      "22\n",
      "會計總 帳系統\n",
      "23\n",
      "$16,000\n",
      "24\n",
      "$34,000\n",
      "25\n",
      "實帳戶與虛帳戶\n",
      "26\n",
      "$418\n",
      "27\n",
      "借：郵電費$945、業主往來$945，貸：現金$1,890\n",
      "28\n",
      "2％\n",
      "29\n",
      "應付帳款\n",
      "30\n",
      "$18,700\n",
      "31\n",
      "分類帳\n",
      "32\n",
      "依企業本身採用的會計期間\n",
      "33\n",
      "當靜電發生處所低於室溫時，效果更佳\n",
      "34\n",
      "費損多計\n",
      "35\n",
      "試算表依然平衡\n",
      "36\n",
      "借$4,000\n",
      "37\n",
      "暫收款$30,000\n",
      "38\n",
      "匯率設 定\n",
      "39\n",
      "應付票據\n",
      "40\n",
      "同 時出現在調整後試算表\n",
      "41\n",
      "小於1\n",
      "42\n",
      "摘要欄\n",
      "43\n",
      "借：應付帳款$70,000，貸：現 金$69,300、進貨折讓$700\n",
      "44\n",
      "五年\n",
      "45\n",
      "不一定有餘額\n",
      "46\n",
      "賒購文具用品\n",
      "47\n",
      "現金轉帳傳票\n",
      "48\n",
      "應付薪資\n",
      "49\n",
      "化學計量（理論）濃度\n",
      "50\n",
      "$320,000\n",
      "51\n",
      "不須取得或給予原始憑證\n",
      "52\n",
      "營利會計\n",
      "53\n",
      "$18,638\n",
      "54\n",
      "帳戶\n",
      "55\n",
      "交易的記錄\n",
      "56\n",
      "應收帳款\n",
      "57\n",
      "日記簿能表示逐日發生的所有交易之全貌\n",
      "58\n",
      "$50,000\n",
      "59\n",
      "訂正\n",
      "60\n",
      "公司向銀行借款作為週轉 用，將使公司之資產減少及負債增加\n",
      "61\n",
      "$150,000\n",
      "62\n",
      "沿面放電\n",
      "63\n",
      "借：佣金收入$12,000，貸：預收佣金$12,000\n",
      "64\n",
      "相當於人工作業時的應收帳款明細帳\n",
      "65\n",
      "30人\n",
      "66\n",
      "廢棄\n",
      "67\n",
      "棉紗手套\n",
      "68\n",
      "腦心血管疾病\n",
      "69\n",
      "工作時謹守本分，以積極態度解決問題\n",
      "70\n",
      "蒐集機關的負責人姓名\n",
      "71\n",
      "對婦女的歧視指基於性別而作的任何區別、排斥或限制\n",
      "72\n",
      "雇用人\n",
      "73\n",
      "重複使用\n",
      "74\n",
      "紙尿褲\n",
      "75\n",
      "交由販賣商回收\n",
      "76\n",
      "多吃肉少蔬菜\n",
      "77\n",
      "走廊 與地下停車場選用紅外線感應控制電燈\n",
      "78\n",
      "CO2\n",
      "79\n",
      "熱泵熱水器 \n",
      "80\n",
      "行政院環境保護署\n"
     ]
    }
   ],
   "source": [
    "for i in range(2, len(questions)):\n",
    "#     print(questions[i].text.split(' 【')[1].split('】')[0].split(\"-\"))\n",
    "\n",
    "    QuestionGroup = questions[i].text.split(' 【')[1].split('】')[0].split(\"-\")[0]\n",
    "    topic = questions[i].text.split(' 【')[1].split('】')[0].split(\"-\")[1]\n",
    "#     print(topic)  \n",
    "    \n",
    "    zero = questions[i].text.split(') ')[1-5].split('   (')[0].split('  \\n')[0].split(' ')[0]\n",
    "    four = questions[i].text.split(') ')[1-4].split('   (')[0].split('  \\n')[0].split(' ')[0]\n",
    "    three = questions[i].text.split(') ')[1-3].split('   (')[0].split('  \\n')[0].split(' ')[0]\n",
    "    two = questions[i].text.split(') ')[1-2].split('   (')[0].split('  \\n')[0].split(' ')[0]\n",
    "\n",
    "    \n",
    "    Ansertest = searchAnswer(QuestionGroup,topic)\n",
    "    \n",
    "    driver.switch_to.frame(\"main\") \n",
    "    questions = driver.find_elements(By.XPATH, '/html/body/center/form/div/table/tbody/tr')\n",
    "    \n",
    "    num = i-2    \n",
    "    \n",
    "    \n",
    "    rate = 0.4\n",
    "    \n",
    "    if similarity(zero, Ansertest) >= rate:\n",
    "        driver.find_elements_by_name(\"ans\"+str(num))[0].click()\n",
    "    elif similarity(four, Ansertest) >= rate:\n",
    "        driver.find_elements_by_name(\"ans\"+str(num))[1].click()\n",
    "    elif similarity(three, Ansertest) >= rate:\n",
    "        driver.find_elements_by_name(\"ans\"+str(num))[2].click()    \n",
    "    elif similarity(two, Ansertest) >= rate:\n",
    "        driver.find_elements_by_name(\"ans\"+str(num))[3].click()    \n",
    "    \n",
    "    \n",
    "    if zero == Ansertest:\n",
    "        driver.find_elements_by_name(\"ans\"+str(num))[0].click()\n",
    "    elif four == Ansertest:\n",
    "        driver.find_elements_by_name(\"ans\"+str(num))[1].click()\n",
    "    elif three == Ansertest:\n",
    "        driver.find_elements_by_name(\"ans\"+str(num))[2].click()\n",
    "    elif two == Ansertest:\n",
    "        driver.find_elements_by_name(\"ans\"+str(num))[3].click()\n",
    "    \n",
    "    \n",
    "    \n",
    "    print(i-1)\n",
    "    print(Ansertest)\n"
   ]
  },
  {
   "cell_type": "code",
   "execution_count": 17,
   "id": "04126d71",
   "metadata": {},
   "outputs": [],
   "source": [
    "# driver.switch_to.frame(\"main\")\n",
    "# questions = driver.find_elements(By.XPATH, '/html/body/center/form/div/table/tbody/tr')"
   ]
  },
  {
   "cell_type": "code",
   "execution_count": 18,
   "id": "398fa50d",
   "metadata": {},
   "outputs": [],
   "source": [
    "# for i in range(2, len(questions)):\n",
    "    \n",
    "#     zero = questions[i].text.split(') ')[1-0].split('   (')[0].split('  \\n')[0]\n",
    "#     four = questions[i].text.split(') ')[1-4].split('   (')[0].split('  \\n')[0]\n",
    "#     three = questions[i].text.split(') ')[1-3].split('   (')[0].split('  \\n')[0]\n",
    "#     two = questions[i].text.split(') ')[1-2].split('   (')[0].split('  \\n')[0]\n",
    "    \n",
    "#     if zero == Ansertest:\n",
    "#         driver.find_elements_by_name(\"ans0\")[0].click()\n",
    "#     elif four == Ansertest:\n",
    "#         driver.find_elements_by_name(\"ans0\")[1].click()\n",
    "#     elif three == Ansertest:\n",
    "#         driver.find_elements_by_name(\"ans0\")[2].click()\n",
    "#     elif two == Ansertest:\n",
    "#         driver.find_elements_by_name(\"ans0\")[3].click()\n",
    "        \n",
    "    \n",
    "    \n",
    "    \n",
    "    \n",
    "    \n",
    "# print(asd)\n",
    "    \n",
    "    \n",
    "    \n",
    "    \n",
    "# (5)=1選項\n",
    "# (4)=2\n",
    "# (3)=3\n",
    "# (2)=4\n",
    "\n",
    "    "
   ]
  },
  {
   "cell_type": "code",
   "execution_count": 19,
   "id": "3415e94c",
   "metadata": {},
   "outputs": [
    {
     "name": "stdout",
     "output_type": "stream",
     "text": [
      "衛生福利部\n",
      "行政院環境保護署\n",
      "經濟部能源局\n",
      "國家發展委員會  \n"
     ]
    }
   ],
   "source": [
    "for i in range(2, len(questions)):\n",
    "    \n",
    "    zero = questions[i].text.split(') ')[1-5].split('   (')[0].split('  \\n')[0]\n",
    "    four = questions[i].text.split(') ')[1-4].split('   (')[0].split('  \\n')[0]\n",
    "    three = questions[i].text.split(') ')[1-3].split('   (')[0].split('  \\n')[0]\n",
    "    two = questions[i].text.split(') ')[1-2].split('   (')[0].split('  \\n')[0]\n",
    "    \n",
    "    \n",
    "print(zero)\n",
    "print(four)\n",
    "print(three)\n",
    "print(two)\n",
    "    \n",
    "\n",
    "    \n",
    "#     if zero == Ansertest:\n",
    "#         driver.find_elements_by_name(\"ans0\")[0].click()\n",
    "#     elif four == Ansertest:\n",
    "#         driver.find_elements_by_name(\"ans0\")[1].click()\n",
    "#     elif three == Ansertest:\n",
    "#         driver.find_elements_by_name(\"ans0\")[2].click()\n",
    "#     elif two == Ansertest:\n",
    "#         driver.find_elements_by_name(\"ans0\")[3].click()"
   ]
  },
  {
   "cell_type": "code",
   "execution_count": null,
   "id": "d3f3fce3",
   "metadata": {},
   "outputs": [],
   "source": []
  },
  {
   "cell_type": "code",
   "execution_count": null,
   "id": "34e20b02",
   "metadata": {},
   "outputs": [],
   "source": []
  },
  {
   "cell_type": "code",
   "execution_count": 20,
   "id": "c2b9ce85",
   "metadata": {},
   "outputs": [],
   "source": [
    "# len(\"questions\")"
   ]
  },
  {
   "cell_type": "code",
   "execution_count": 21,
   "id": "26021e18",
   "metadata": {},
   "outputs": [],
   "source": [
    "# print(Ansertest)"
   ]
  },
  {
   "cell_type": "code",
   "execution_count": null,
   "id": "aebc3a57",
   "metadata": {},
   "outputs": [],
   "source": []
  },
  {
   "cell_type": "code",
   "execution_count": null,
   "id": "556f1c12",
   "metadata": {},
   "outputs": [],
   "source": []
  },
  {
   "cell_type": "code",
   "execution_count": 22,
   "id": "b99de260",
   "metadata": {},
   "outputs": [],
   "source": [
    "# driver.find_elements_by_name(\"ans0\")[0].click()"
   ]
  },
  {
   "cell_type": "code",
   "execution_count": null,
   "id": "c6194f8b",
   "metadata": {},
   "outputs": [],
   "source": []
  },
  {
   "cell_type": "code",
   "execution_count": null,
   "id": "1bd3990e",
   "metadata": {},
   "outputs": [],
   "source": []
  },
  {
   "cell_type": "code",
   "execution_count": null,
   "id": "7363d441",
   "metadata": {},
   "outputs": [],
   "source": []
  },
  {
   "cell_type": "code",
   "execution_count": null,
   "id": "01eb49ee",
   "metadata": {},
   "outputs": [],
   "source": []
  },
  {
   "cell_type": "code",
   "execution_count": null,
   "id": "25c577cb",
   "metadata": {},
   "outputs": [],
   "source": []
  },
  {
   "cell_type": "code",
   "execution_count": null,
   "id": "bde302e2",
   "metadata": {},
   "outputs": [],
   "source": []
  },
  {
   "cell_type": "code",
   "execution_count": 23,
   "id": "fbc9e306",
   "metadata": {},
   "outputs": [],
   "source": [
    "# searchAnswer(\"05\",\"23\")"
   ]
  },
  {
   "cell_type": "code",
   "execution_count": 24,
   "id": "bcf53620",
   "metadata": {},
   "outputs": [],
   "source": [
    "# url = \"https://yamol.tw/item-\" + str(783394) + \".htm\"\n",
    "# response = requests.get(url)\n",
    "# soup     = BeautifulSoup(response.text, 'html.parser')\n",
    "\n",
    "# selects = soup.select(\"div.col-sm-6.col-md-4.col-lg-4\")\n",
    "# Answer = selects[0].a.text\n",
    "\n",
    "# titles = soup.select(\"span.itemcontent\")[0].text.split('(')\n",
    "\n",
    "# for title in titles:\n",
    "#     if title.split(')')[0] == Answer:\n",
    "#         AnswerText = title.split(')')[1].split(' ')[0].split('。')[0].replace(\"\\n\", \"\")\n",
    "    "
   ]
  },
  {
   "cell_type": "code",
   "execution_count": 25,
   "id": "1c02d045",
   "metadata": {},
   "outputs": [],
   "source": [
    "# selects"
   ]
  },
  {
   "cell_type": "code",
   "execution_count": 26,
   "id": "124a23e8",
   "metadata": {},
   "outputs": [],
   "source": [
    "# Answer"
   ]
  },
  {
   "cell_type": "code",
   "execution_count": 27,
   "id": "f8ecb099",
   "metadata": {},
   "outputs": [],
   "source": [
    "# titles"
   ]
  },
  {
   "cell_type": "code",
   "execution_count": 28,
   "id": "ca050ee1",
   "metadata": {},
   "outputs": [],
   "source": [
    "# title.split(')')[0]"
   ]
  },
  {
   "cell_type": "code",
   "execution_count": null,
   "id": "2013f592",
   "metadata": {},
   "outputs": [],
   "source": []
  },
  {
   "cell_type": "code",
   "execution_count": 29,
   "id": "4d5c9458",
   "metadata": {},
   "outputs": [],
   "source": [
    "# AnswerText"
   ]
  },
  {
   "cell_type": "code",
   "execution_count": 30,
   "id": "73c80e6a",
   "metadata": {},
   "outputs": [],
   "source": [
    "def similarity(a, b):\n",
    "    return SequenceMatcher(None, a, b).ratio()"
   ]
  },
  {
   "cell_type": "code",
   "execution_count": 31,
   "id": "7b64ff67",
   "metadata": {},
   "outputs": [
    {
     "data": {
      "text/plain": [
       "0.7272727272727273"
      ]
     },
     "execution_count": 31,
     "metadata": {},
     "output_type": "execute_result"
    }
   ],
   "source": [
    "similarity('借：備抵呆帳－應收帳款', '借：備抵損失—應收帳款')"
   ]
  },
  {
   "cell_type": "code",
   "execution_count": null,
   "id": "ffb842ec",
   "metadata": {},
   "outputs": [],
   "source": []
  },
  {
   "cell_type": "code",
   "execution_count": null,
   "id": "d116cb7e",
   "metadata": {},
   "outputs": [],
   "source": []
  },
  {
   "cell_type": "code",
   "execution_count": null,
   "id": "9c452c23",
   "metadata": {},
   "outputs": [],
   "source": []
  },
  {
   "cell_type": "code",
   "execution_count": null,
   "id": "1ae9b058",
   "metadata": {},
   "outputs": [],
   "source": []
  },
  {
   "cell_type": "code",
   "execution_count": null,
   "id": "a64f2f0a",
   "metadata": {},
   "outputs": [],
   "source": []
  },
  {
   "cell_type": "code",
   "execution_count": null,
   "id": "9a06d92d",
   "metadata": {},
   "outputs": [],
   "source": []
  },
  {
   "cell_type": "code",
   "execution_count": null,
   "id": "c380b14f",
   "metadata": {},
   "outputs": [],
   "source": []
  },
  {
   "cell_type": "code",
   "execution_count": null,
   "id": "2e0ddd71",
   "metadata": {},
   "outputs": [],
   "source": []
  },
  {
   "cell_type": "code",
   "execution_count": null,
   "id": "70d6618b",
   "metadata": {},
   "outputs": [],
   "source": []
  },
  {
   "cell_type": "code",
   "execution_count": null,
   "id": "a9578f58",
   "metadata": {},
   "outputs": [],
   "source": []
  }
 ],
 "metadata": {
  "kernelspec": {
   "display_name": "Python 3",
   "language": "python",
   "name": "python3"
  },
  "language_info": {
   "codemirror_mode": {
    "name": "ipython",
    "version": 3
   },
   "file_extension": ".py",
   "mimetype": "text/x-python",
   "name": "python",
   "nbconvert_exporter": "python",
   "pygments_lexer": "ipython3",
   "version": "3.7.9"
  }
 },
 "nbformat": 4,
 "nbformat_minor": 5
}
